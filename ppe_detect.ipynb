{
 "cells": [
  {
   "cell_type": "code",
   "execution_count": null,
   "id": "02c9fa10",
   "metadata": {},
   "outputs": [],
   "source": [
    "import os\n",
    "\n",
    "from ultralytics import YOLO\n",
    "\n",
    "\n",
    "model = YOLO(\"runs/detect/train3/weights/best.pt\")"
   ]
  },
  {
   "cell_type": "code",
   "execution_count": null,
   "id": "688a4645",
   "metadata": {},
   "outputs": [],
   "source": [
    "def replace_class_in_files(directory):\n",
    "    count = 0\n",
    "    for filename in os.listdir(directory):\n",
    "        print(count)\n",
    "        count += 1\n",
    "        # Проверяем, что файл текстовый\n",
    "        if filename.endswith('.txt'):\n",
    "            filepath = os.path.join(directory, filename)\n",
    "            \n",
    "            # Читаем содержимое файла\n",
    "            with open(filepath, 'r') as file:\n",
    "                lines = file.readlines()\n",
    "            \n",
    "            # Обрабатываем каждую строку\n",
    "            modified_lines = []\n",
    "            for line in lines:\n",
    "                parts = line.strip().split()\n",
    "                if parts: \n",
    "                    # Заменяем класс 1 на 2, 2 на 3\n",
    "                    if parts[0] == '1':\n",
    "                        parts[0] = '2'\n",
    "                    elif parts[0] == '2':\n",
    "                        parts[0] = '3'\n",
    "                    modified_lines.append(' '.join(parts) + '\\n')\n",
    "            \n",
    "            # Записываем изменённое содержимое обратно в файл\n",
    "            with open(filepath, 'w') as file:\n",
    "                file.writelines(modified_lines)\n"
   ]
  },
  {
   "cell_type": "code",
   "execution_count": null,
   "id": "8f71d3e6",
   "metadata": {},
   "outputs": [],
   "source": [
    "freeze_layers = 20\n",
    "for i, (name, param) in enumerate(model.model.named_parameters()):\n",
    "    if i < freeze_layers:\n",
    "        param.requires_grad = False\n",
    "        \n",
    "results = model.train(\n",
    "    data=\"dataset/data.yaml\",\n",
    "    imgsz=640,\n",
    "    epochs=80,\n",
    "    batch=32\n",
    ")"
   ]
  },
  {
   "cell_type": "code",
   "execution_count": null,
   "id": "301d8885",
   "metadata": {},
   "outputs": [],
   "source": [
    "images = os.listdir(\"dataset/test\")\n",
    "for image in images:\n",
    "    result = model(\"dataset/test/\"+image)\n",
    "    result[0].save('results/' + image)"
   ]
  }
 ],
 "metadata": {
  "kernelspec": {
   "display_name": "nshestakov1",
   "language": "python",
   "name": "python3"
  },
  "language_info": {
   "codemirror_mode": {
    "name": "ipython",
    "version": 3
   },
   "file_extension": ".py",
   "mimetype": "text/x-python",
   "name": "python",
   "nbconvert_exporter": "python",
   "pygments_lexer": "ipython3",
   "version": "3.10.12"
  }
 },
 "nbformat": 4,
 "nbformat_minor": 5
}
