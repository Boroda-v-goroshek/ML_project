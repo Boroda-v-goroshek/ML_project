{
 "cells": [
  {
   "cell_type": "code",
   "execution_count": null,
   "id": "a9fb5546",
   "metadata": {},
   "outputs": [],
   "source": [
    "from ultralytics import YOLO\n",
    "\n",
    "model = YOLO(\"weights/yolo11n.pt\")"
   ]
  },
  {
   "cell_type": "code",
   "execution_count": null,
   "id": "3d37b055",
   "metadata": {},
   "outputs": [],
   "source": [
    "freeze_layers = 20\n",
    "for i, (name, param) in enumerate(model.model.named_parameters()):\n",
    "    if i < freeze_layers:\n",
    "        param.requires_grad = False\n",
    "        \n",
    "results = model.train(\n",
    "    data=\"dataset/data.yaml\",\n",
    "    epochs=80,\n",
    "    batch=32,\n",
    "    # Настройки аугментаций:\n",
    "    augment=True,\n",
    "    hsv_h=0.0,     # Убрать изменение оттенка (цвета)\n",
    "    hsv_s=0.0,     # Убрать насыщенность (делает цвета бледнее)\n",
    "    hsv_v=0.0,     # Убрать яркость (делает изображение темнее)\n",
    "    shear=0.0     # Без наклона\n",
    ")"
   ]
  }
 ],
 "metadata": {
  "kernelspec": {
   "display_name": "nshestakov1",
   "language": "python",
   "name": "python3"
  },
  "language_info": {
   "codemirror_mode": {
    "name": "ipython",
    "version": 3
   },
   "file_extension": ".py",
   "mimetype": "text/x-python",
   "name": "python",
   "nbconvert_exporter": "python",
   "pygments_lexer": "ipython3",
   "version": "3.10.12"
  }
 },
 "nbformat": 4,
 "nbformat_minor": 5
}
